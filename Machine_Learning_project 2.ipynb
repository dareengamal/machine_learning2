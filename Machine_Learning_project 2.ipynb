{
  "nbformat": 4,
  "nbformat_minor": 0,
  "metadata": {
    "colab": {
      "provenance": []
    },
    "kernelspec": {
      "name": "python3",
      "display_name": "Python 3"
    },
    "language_info": {
      "name": "python"
    }
  },
  "cells": [
    {
      "cell_type": "code",
      "source": [
        "!pip install patool"
      ],
      "metadata": {
        "colab": {
          "base_uri": "https://localhost:8080/"
        },
        "id": "X3MLDZqhW0zN",
        "outputId": "93127dee-00bc-4b9b-9e7c-c06595a17dfe"
      },
      "execution_count": 111,
      "outputs": [
        {
          "output_type": "stream",
          "name": "stdout",
          "text": [
            "Looking in indexes: https://pypi.org/simple, https://us-python.pkg.dev/colab-wheels/public/simple/\n",
            "Requirement already satisfied: patool in /usr/local/lib/python3.8/dist-packages (1.12)\n"
          ]
        }
      ]
    },
    {
      "cell_type": "code",
      "execution_count": 112,
      "metadata": {
        "id": "yaZw3QgGBBLn"
      },
      "outputs": [],
      "source": [
        "import numpy as np\n",
        "import matplotlib.pyplot as plt\n",
        "import patoolib\n",
        "from PIL import Image\n",
        "from sklearn.metrics import confusion_matrix, ConfusionMatrixDisplay\n",
        "from sklearn import metrics\n",
        "import seaborn as sns"
      ]
    },
    {
      "cell_type": "code",
      "source": [
        "patoolib.extract_archive('/content/Data.zip')"
      ],
      "metadata": {
        "colab": {
          "base_uri": "https://localhost:8080/",
          "height": 88
        },
        "id": "rcyrWmcJQuQ1",
        "outputId": "18244319-aaa3-488e-8f1d-dbf20ee72156"
      },
      "execution_count": 113,
      "outputs": [
        {
          "output_type": "stream",
          "name": "stdout",
          "text": [
            "patool: Extracting /content/Data.zip ...\n",
            "patool: running /usr/bin/7z x -o./Unpack_zipha9y2 -- /content/Data.zip\n",
            "patool: ... /content/Data.zip extracted to `Data3' (local file exists).\n"
          ]
        },
        {
          "output_type": "execute_result",
          "data": {
            "text/plain": [
              "'Data3'"
            ],
            "application/vnd.google.colaboratory.intrinsic+json": {
              "type": "string"
            }
          },
          "metadata": {},
          "execution_count": 113
        }
      ]
    },
    {
      "cell_type": "code",
      "source": [
        "#array of shape (2400, 784) plus extra dimenssion for least square (extra column of ones)\n",
        "images = np.ones([2400,785])"
      ],
      "metadata": {
        "id": "ctEJ-YkEcWwY"
      },
      "execution_count": 114,
      "outputs": []
    },
    {
      "cell_type": "markdown",
      "source": [
        "Least Square Method Formula\n",
        "\n",
        "w= (X`transpose *X`)-1X`transpose*t"
      ],
      "metadata": {
        "id": "OUaAEXjw_ZsZ"
      }
    },
    {
      "cell_type": "code",
      "source": [
        "path = \"/content/Data/Train/\"\n",
        "XteldaTrain = np.ones([2400,785])\n",
        "i=0\n",
        "while(i<2400):\n",
        "    curr = i+1\n",
        "    PATHNEW = path + str(curr) + \".jpg\"\n",
        "    New_image = Image.open(PATHNEW)\n",
        "    image = np.asarray(New_image).flatten()\n",
        "    image = np.append(image, [1])\n",
        "    XteldaTrain[i] =  image\n",
        "    i+=1\n",
        "\n",
        "path = \"/content/Data/Test/\"\n",
        "XteldaTest = np.ones([200,785])\n",
        "i=0\n",
        "while(i<200):\n",
        "    curr = i+1\n",
        "    PATHNEW = path + str(curr) + \".jpg\"\n",
        "    New_image = Image.open(PATHNEW)\n",
        "    TestImage = np.asarray(New_image).flatten()\n",
        "    TestImage = np.append(TestImage, [1])\n",
        "    XteldaTest[i] =  TestImage\n",
        "    i+=1    "
      ],
      "metadata": {
        "id": "TLYvL3yHcWzP"
      },
      "execution_count": 115,
      "outputs": []
    },
    {
      "cell_type": "code",
      "source": [
        "def getTargetValue(index):\n",
        "  list = [-1]*2400\n",
        "  for i in range(240):\n",
        "    list[(index*240)+i] = 1 \n",
        "  return list\n",
        "\n",
        "#test = getTargetValue(9)\n"
      ],
      "metadata": {
        "id": "wyZSkDAi1XEQ"
      },
      "execution_count": 116,
      "outputs": []
    },
    {
      "cell_type": "markdown",
      "source": [
        "(XT*X)-1*X"
      ],
      "metadata": {
        "id": "E7Ixq2YYB69R"
      }
    },
    {
      "cell_type": "code",
      "source": [
        "Xtranspose = XteldaTrain.transpose()\n",
        "W = (np.linalg.pinv(Xtranspose.dot(XteldaTrain))).dot(Xtranspose)\n"
      ],
      "metadata": {
        "id": "ZWZJF54HcW18"
      },
      "execution_count": 117,
      "outputs": []
    },
    {
      "cell_type": "code",
      "source": [
        "i=0\n",
        "WX = []\n",
        "while i < 10:\n",
        "  WX.append(W.dot(getTargetValue(i)))\n",
        "  i = i+1\n",
        "\n",
        "#WX[0] \n",
        "#XteldaTest[199]"
      ],
      "metadata": {
        "id": "WlHqLYqiVF0M"
      },
      "execution_count": 118,
      "outputs": []
    },
    {
      "cell_type": "code",
      "source": [
        "Prediction = []\n",
        "Max = []\n",
        "i=0\n",
        "while i < 200:\n",
        "  j=0\n",
        "  while j < 10:\n",
        "     YX = WX[j].transpose().dot(XteldaTest[i])\n",
        "     Max.append(YX)\n",
        "     j = j+1\n",
        "  \n",
        "  MaxValue = np.argmax(Max)\n",
        "  Max.clear()\n",
        "  Prediction.append(MaxValue)\n",
        "  i = i+1 \n"
      ],
      "metadata": {
        "id": "UIHGT9Jy9-n5"
      },
      "execution_count": 119,
      "outputs": []
    },
    {
      "cell_type": "code",
      "source": [
        "Labels = np.genfromtxt(\"/content/Data/Test/Test Labels.txt\", delimiter = \",\")\n",
        "Confusion = confusion_matrix(Prediction, Labels)\n",
        "sns.heatmap(Confusion, annot = True)\n",
        "plt.xlabel('Predicted Label')\n",
        "plt.ylabel('True Label')\n",
        "plt.savefig('Confusion')"
      ],
      "metadata": {
        "colab": {
          "base_uri": "https://localhost:8080/",
          "height": 283
        },
        "id": "zgqmXqeYLs2Y",
        "outputId": "dbe25f51-cff9-49e3-c544-e5ca9d4afde6"
      },
      "execution_count": 133,
      "outputs": [
        {
          "output_type": "display_data",
          "data": {
            "text/plain": [
              "<Figure size 432x288 with 2 Axes>"
            ],
            "image/png": "[encoded data removed]"
          },
          "metadata": {
            "needs_background": "light"
          }
        }
      ]
    }
  ]
}